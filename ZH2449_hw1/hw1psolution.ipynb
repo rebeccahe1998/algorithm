{
  "nbformat": 4,
  "nbformat_minor": 0,
  "metadata": {
    "kernelspec": {
      "name": "python3",
      "display_name": "Python 3.9.0 64-bit",
      "metadata": {
        "interpreter": {
          "hash": "aee8b7b246df8f9039afb4144a1f6fd8d2ca17a180786b69acc140d282b71a49"
        }
      }
    },
    "language_info": {
      "codemirror_mode": {
        "name": "ipython",
        "version": 3
      },
      "file_extension": ".py",
      "mimetype": "text/x-python",
      "name": "python",
      "nbconvert_exporter": "python",
      "pygments_lexer": "ipython3",
      "version": "3.9.0-final"
    },
    "colab": {
      "name": "DFS-HW-F20.ipynb",
      "provenance": [],
      "collapsed_sections": []
    }
  },
  "cells": [
    {
      "cell_type": "markdown",
      "metadata": {
        "id": "_w9_eMqCSKoT"
      },
      "source": [
        "# Connected Components\n",
        "\n",
        "The purpose of this assignment is to familiarize yourself with the handling of graph data structures. You will implement depth-first search for identifying the connected components of an undirected graph, implementing procedure Search as a subroutine along the way.\n",
        "\n",
        "You will use the [NetworkX](https://networkx.github.io/) Python package to represent and manipulate graphs. You should first familiarize yourself with its functionality by going through the brief [tutorial](http://networkx.github.io/documentation/networkx-1.9.1/tutorial/index.html). For this homework, you may only use the basic undirected graph methods listed [here](http://networkx.github.io/documentation/networkx-1.9.1/reference/classes.graph.html).\n",
        "\n",
        "As a use case, we will work with a dataset recording the interactions between characters in Homer's *Iliad*."
      ]
    },
    {
      "cell_type": "code",
      "metadata": {
        "id": "juIKSv_tSKoV"
      },
      "source": [
        "import networkx as nx\n",
        "homer = open('homer.dat')"
      ],
      "execution_count": 17,
      "outputs": []
    },
    {
      "cell_type": "markdown",
      "metadata": {
        "id": "XPFig5WBSKon"
      },
      "source": [
        "The format of the data is straightforward. After some comment lines (beginning with \\*), the file lists a codename for each character (i.e., node of the graph), followed by a description. The file then lists the groups of characters that interact in each chapter, from which you will form the edges. For instance, the first line has the form:\n",
        "\n",
        "```1:CH,AG,ME,GS;AP,CH;HE,AC;AC,AG,CA;HE,AT;AT,AC;AT,OG;NE,AG,AC;CS,OD```\n",
        "\n",
        "This means that CH,AG,ME,GS interacted, so there are edges for all pairs of these nodes. Groups of characters that interacted are separated by semicolons. The lines start with chapter information of the form `1:` or `&:`, which can be ignored for this problem."
      ]
    },
    {
      "cell_type": "markdown",
      "metadata": {
        "id": "w32VN_SzSKor"
      },
      "source": [
        "First implement a function to read in the nodes from the input file. You may implement any auxiliary functions as needed, and are encouraged to use small functions with specific purposes to keep your code readable. Any function you implement should be clearly commented."
      ]
    },
    {
      "cell_type": "markdown",
      "metadata": {
        "id": "oRHaUAEVSKot"
      },
      "source": [
        "Next implement a function to read in the edges from the input file."
      ]
    },
    {
      "cell_type": "code",
      "metadata": {
        "id": "E2bfN-qnSKou"
      },
      "source": [
        "def read_nodes(gfile):\n",
        "    \"\"\"Reads in the nodes of the graph from the input file.\n",
        "    \n",
        "    Args:\n",
        "        gfile: A handle for the file containing the graph data, starting at the top.\n",
        "        \n",
        "    Returns:\n",
        "        A list of the nodes in the graph of the form:\n",
        "            ['CH', 'AG, 'ME', ...]\n",
        "    \"\"\"\n",
        "    node_list = []\n",
        "    for row in gfile:\n",
        "        if row == '\\n':  # the line break seperate the nodes and edges\n",
        "            break\n",
        "        if row[2]==' ':  # if space in the third char, its a node\n",
        "            node_list.append(row[0:2])\n",
        "    return node_list\n"
      ],
      "execution_count": 18,
      "outputs": []
    },
    {
      "cell_type": "code",
      "metadata": {
        "id": "g5ju1ZWQSKo_"
      },
      "source": [
        "def read_edges(gfile):\n",
        "    \"\"\"Reads in the edges of the graph from the input file.\n",
        "    \n",
        "    Args:\n",
        "        gfile: A handle for the file containing the graph data, starting at the top \n",
        "            of the edges section.\n",
        "            \n",
        "    Returns:\n",
        "        The edges in the graph as a list of pairs of the form:\n",
        "            [('CH', 'AG'), ('AG', 'ME'), ...]\n",
        "    \"\"\"\n",
        "    pair = []\n",
        "    for row in gfile:\n",
        "        if row[1] or row[2] ==':':\n",
        "            row=row.strip(\"\\n\") # remove line break\n",
        "            rm_index=row.find(':')  # find index of \":\"\n",
        "            removed=row[rm_index+1:] # remove everything before \":\"\n",
        "            semicolon = removed.split(';') # a list split by semicolon, seperated by comma\n",
        "            comma=[]\n",
        "            for semi in semicolon:   \n",
        "                comma.append(semi.split(','))  # get lists of interacted group\n",
        "            for node_list in comma:      # for each interacted group\n",
        "                i=0\n",
        "                while i<len(node_list): # for each node, pair it with all others\n",
        "                    j=0\n",
        "                    while j<len(node_list) and i != j: # (i,i) is not a edge\n",
        "                        pair.append((node_list[i],node_list[j]))\n",
        "                        j+=1\n",
        "                    i+=1\n",
        "    return pair\n",
        "            "
      ],
      "execution_count": 19,
      "outputs": []
    },
    {
      "cell_type": "markdown",
      "metadata": {
        "id": "GGbpjZV2SKpX"
      },
      "source": [
        "The following code should now correctly create the graph."
      ]
    },
    {
      "cell_type": "code",
      "metadata": {
        "id": "LqtB_O-HSKpX"
      },
      "source": [
        "G = nx.Graph()\n",
        "G.add_nodes_from(read_nodes(homer))\n",
        "G.add_edges_from(read_edges(homer))"
      ],
      "execution_count": 20,
      "outputs": []
    },
    {
      "cell_type": "markdown",
      "metadata": {
        "id": "51_ln90gSKpj"
      },
      "source": [
        "Next implement procedure Search. The function takes in a graph and a root node, and returns a list of the nodes visited during the search. The nodes should appear in the order in which they were *first visited*. The neighbors of a node should be processed in *alphabetical order*, where numbers come before letters. This will ensure that the output of your function is uniquely defined, given any input node."
      ]
    },
    {
      "cell_type": "code",
      "metadata": {
        "id": "YegEgmHaSKpj"
      },
      "source": [
        "def Search(graph, root):\n",
        "    \"\"\"Runs Search from vertex root in a graph. Neighboring nodes are processed in alphabetical order.\n",
        "    \n",
        "    Args:\n",
        "        graph: the given graph, with nodes encoded as strings.\n",
        "        root: the node from which to start the search.\n",
        "        \n",
        "    Returns:\n",
        "        A list of nodes in the order in which they were first visited.\n",
        "    \"\"\"\n",
        "    explored = [] # append nodes that were visited\n",
        "    def Search_loop(graph,root):  # to avoid global variable\n",
        "        nodes=list(graph.nodes())\n",
        "        \n",
        "        explored.append(root)  # append if visited\n",
        "        i=0\n",
        "        while i < len(nodes):  # find all the edges of root\n",
        "            if ((root,nodes[i]) in graph.edges() or (nodes[i],root) in graph.edges()):\n",
        "                if nodes[i] not in explored:    # continue searching if not explored before\n",
        "                    Search_loop(graph,nodes[i])\n",
        "            i+=1\n",
        "    Search_loop(graph,root)\n",
        "    return explored\n",
        "\n",
        "    "
      ],
      "execution_count": 21,
      "outputs": []
    },
    {
      "cell_type": "code",
      "metadata": {
        "id": "7B-N8ID4Ceph"
      },
      "source": [
        "ulysses = Search(G, 'OD')\n",
        "\n"
      ],
      "execution_count": 29,
      "outputs": []
    },
    {
      "cell_type": "markdown",
      "metadata": {
        "id": "YIVLm77oSKpx"
      },
      "source": [
        "We will check the correctness of your code by verifying that it correctly computes the connected component of node Ulysses (node `OD`)."
      ]
    },
    {
      "cell_type": "markdown",
      "metadata": {
        "id": "PR5bYmsCSKqL"
      },
      "source": [
        "Next implement DFS to find the connected components of the character graph. When choosing roots for your components, always pick the *smallest unvisited node* according to alphabetical ordering. Combined with your Search routine, this will ensure that the output is again uniquely defined."
      ]
    },
    {
      "cell_type": "code",
      "metadata": {
        "id": "e9Fuxn6OSKqN"
      },
      "source": [
        "def connected_components(graph):\n",
        "    \"\"\"Computes the connected components of the given graph.\n",
        "    \n",
        "    Args: \n",
        "        graph: the given graph, with nodes encoded as strings.\n",
        "        \n",
        "    Returns:\n",
        "        The connected components of the graph. Components are listed in\n",
        "        alphabetical order of their root nodes.\n",
        "    \"\"\"\n",
        "    nodes = list(graph.nodes())\n",
        "    #nodes.sort() # so the output is sorted by roots\n",
        "    connected = [] # list of lists of connected components  \n",
        "    explored = []\n",
        "    i=0 \n",
        "    while i < len(nodes):\n",
        "        if nodes[i] not in explored:\n",
        "            explored_nodes = Search(graph,nodes[i]) #output a list of visited nodes of root\n",
        "            for k in range(len(explored_nodes)):\n",
        "                explored.append(explored_nodes[k]) # list containing visited nodes\n",
        "            connected.append(explored_nodes)  # append list of connected component\n",
        "        i+=1\n",
        "    return connected\n"
      ],
      "execution_count": 25,
      "outputs": []
    },
    {
      "cell_type": "markdown",
      "metadata": {
        "id": "UfZ3BdrXSKqi"
      },
      "source": [
        "We will check correctness of your code by verifying that your output is identical to our solution."
      ]
    },
    {
      "cell_type": "code",
      "metadata": {
        "id": "vft7zSBxSKqj"
      },
      "source": [
        "character_interactions = connected_components(G)\n",
        "#len(character_interactions)\n"
      ],
      "execution_count": 26,
      "outputs": []
    },
    {
      "cell_type": "markdown",
      "metadata": {
        "id": "Ki9j9TSeSKqp"
      },
      "source": [
        "As a preliminary check, you should find that the following statements are all true."
      ]
    },
    {
      "cell_type": "code",
      "metadata": {
        "id": "LQhvDubvSKqq",
        "outputId": "c750a127-dd08-45a2-a26c-9db4dbde6f0f",
        "colab": {
          "base_uri": "https://localhost:8080/"
        }
      },
      "source": [
        "component_sizes = [len(c) for c in character_interactions]\n",
        "print(\"There are 12 connected components in the Iliad:{}\".format(len(component_sizes) == 12))\n",
        "print(\"The giant component has size 542:{}\".format(max(component_sizes) == 542))\n",
        "print(\"There are 5 isolated characters:{}\".format(len([c for c in component_sizes if c == 1]) == 5))"
      ],
      "execution_count": 27,
      "outputs": [
        {
          "output_type": "stream",
          "name": "stdout",
          "text": [
            "There are 12 connected components in the Iliad:True\nThe giant component has size 542:True\nThere are 5 isolated characters:True\n"
          ]
        }
      ]
    },
    {
      "cell_type": "code",
      "execution_count": null,
      "metadata": {},
      "outputs": [],
      "source": []
    }
  ]
}